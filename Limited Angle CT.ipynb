{
 "cells": [
  {
   "cell_type": "code",
   "execution_count": 2,
   "metadata": {
    "collapsed": false,
    "scrolled": true
   },
   "outputs": [],
   "source": [
    "import matplotlib as mpl\n",
    "import matplotlib.pyplot as plt\n",
    "import numpy as np\n",
    "import matplotlib.cm as cm\n",
    "from matplotlib.colors import Normalize\n",
    "from scipy.interpolate import interpolate, griddata\n",
    "from mpl_toolkits.axes_grid.axislines import Subplot\n",
    "from skimage.transform import radon, iradon, iradon_sart\n",
    "from skimage.transform import rescale\n",
    "from skimage import filters\n",
    "\n",
    "with open('ionos.dat', \"r\") as ins:\n",
    "    lines = []\n",
    "    for line in ins:\n",
    "        lines.append(line)\n",
    "        \n",
    "y_string = \"\"\n",
    "for line in (range(2,19)):\n",
    "    y_string = y_string + lines[line]\n",
    "    alt = y_string.split()\n",
    "\n",
    "x_string = \"\"\n",
    "for line in (range(21,38)):\n",
    "    x_string = x_string + lines[line]\n",
    "    den = x_string.split()\n",
    "\n",
    "#1D Plot\n",
    "#plt.plot(den, alt)\n",
    "#plt.ylabel(\"Altitude (km)\")\n",
    "#plt.xlabel(\"Electron Densities (cm^-3)\")\n",
    "#plt.title(\"Electron Density as Function of Altitude\")\n",
    "#plt.show()"
   ]
  },
  {
   "cell_type": "code",
   "execution_count": 3,
   "metadata": {
    "collapsed": false
   },
   "outputs": [],
   "source": [
    "N = 500 # number of points moving along limb\n",
    "data_y = np.array([float(a) for a in alt])# altitudes\n",
    "data_x = np.array([float(d) for d in den])# electron densities\n",
    "max_Rx = data_x.max()\n",
    "min_Rx = data_x.min()\n",
    "max_Ry = data_y.max()\n",
    "min_Ry = data_y.min()\n",
    "\n",
    "xs = np.linspace(min_Rx, max_Rx, N)\n",
    "ys = np.linspace(min_Ry, max_Ry, N)\n",
    "x,y = np.meshgrid(xs,ys)\n",
    "\n",
    "#r = np.sqrt(x**2 + y**2)\n",
    "\n",
    "f = lambda x: griddata(data_y,data_x,x, method='linear')\n",
    "\n",
    "#plt.imshow(f(r), cmap=plt.cm.viridis)\n",
    "#plt.show()\n",
    "#f(r).shape"
   ]
  },
  {
   "cell_type": "code",
   "execution_count": 4,
   "metadata": {
    "collapsed": false
   },
   "outputs": [
    {
     "name": "stdout",
     "output_type": "stream",
     "text": [
      "83 points along the latitude\n",
      "250 points along the latitude\n",
      "plume widths = 2.0 , 16.0 km\n"
     ]
    }
   ],
   "source": [
    "#Now time to do the limited angle - guess of about 160-175 with two varying plumes\n",
    "#image = f(r)\n",
    "N_lat = 500 #latitudes\n",
    "plume = [f(ys)]*N_lat\n",
    "\n",
    "#adjust plume widths:\n",
    "n=1\n",
    "m=8\n",
    "\n",
    "plume1= n\n",
    "for i in range(int(N_lat/3 - plume1/2), int(N_lat/3 + plume1/2)):\n",
    "    plume[i]=[0]*len(ys)\n",
    "    \n",
    "plume2 = m\n",
    "for j in range(int(N_lat/6 - plume2/2), int(N_lat/6 + plume2/2)):\n",
    "    plume[j]=[0]*len(ys)\n",
    "\n",
    "image = np.hstack(plume)\n",
    "image = np.reshape(image, (N_lat, len(ys)))\n",
    "image = image.T\n",
    "\n",
    "print(round(N_lat/6), 'points along the latitude')\n",
    "print(round(N_lat/2), 'points along the latitude')\n",
    "\n",
    "#original plume width\n",
    "#total width along y-axis = 1000 km/500 px in column\n",
    "\n",
    "km_px = 1000/500 #1000km/500px*plume width px\n",
    "\n",
    "p1 = km_px*plume1\n",
    "p2 = km_px*plume2\n",
    "\n",
    "\n",
    "print('plume widths =',p1,',', p2,'km')\n"
   ]
  },
  {
   "cell_type": "code",
   "execution_count": 5,
   "metadata": {
    "collapsed": false
   },
   "outputs": [
    {
     "data": {
      "text/plain": [
       "([<matplotlib.axis.YTick at 0x2c4ad5e0e10>,\n",
       "  <matplotlib.axis.YTick at 0x2c4ad5e09e8>,\n",
       "  <matplotlib.axis.YTick at 0x2c4ad4e6898>,\n",
       "  <matplotlib.axis.YTick at 0x2c4ad614da0>,\n",
       "  <matplotlib.axis.YTick at 0x2c4ad61c7f0>,\n",
       "  <matplotlib.axis.YTick at 0x2c4ad620240>,\n",
       "  <matplotlib.axis.YTick at 0x2c4ad620c50>,\n",
       "  <matplotlib.axis.YTick at 0x2c4ad6246a0>,\n",
       "  <matplotlib.axis.YTick at 0x2c4ad6290f0>,\n",
       "  <matplotlib.axis.YTick at 0x2c4ad629b00>,\n",
       "  <matplotlib.axis.YTick at 0x2c4ad62f550>],\n",
       " <a list of 11 Text yticklabel objects>)"
      ]
     },
     "execution_count": 5,
     "metadata": {},
     "output_type": "execute_result"
    }
   ],
   "source": [
    "#normalize colormap\n",
    "my_norm = Normalize(image.min(), image.max())\n",
    "#Original image plot\n",
    "\n",
    "plt.title(\"Electron Density\")\n",
    "plt.xlabel(\"Latitude\")\n",
    "plt.ylabel('Altitude (km)')\n",
    "plt.imshow(image, cmap=plt.cm.viridis, aspect = 'auto', norm = my_norm)\n",
    "plt.gca().invert_yaxis()\n",
    "ticks = np.arange(0, 500, 49)\n",
    "labels = [int(round((ys[i])/100)*100) for i in ticks]\n",
    "plt.yticks(ticks, labels)\n",
    "#plt.show()"
   ]
  },
  {
   "cell_type": "code",
   "execution_count": 19,
   "metadata": {
    "collapsed": false
   },
   "outputs": [],
   "source": [
    "#Zenith Angle from altitudes \n",
    "\n",
    "Re = 6371 #km\n",
    "z = list(range(120,360,1)) #km\n",
    "h = 375 #km observation height\n",
    "p = np.asarray([Re])+z \n",
    "q = Re+h #km\n",
    "t = np.divide(p,q)\n",
    "tanpts = (np.arccos(t)+np.pi/2)\n",
    "limb = 180 - np.degrees(tanpts)\n",
    "\n",
    "#print(limb)\n",
    "#limb angles are 73-83. Cool.\n"
   ]
  },
  {
   "cell_type": "code",
   "execution_count": 20,
   "metadata": {
    "collapsed": false
   },
   "outputs": [],
   "source": [
    "#FULL ANGLE \n",
    "theta_full = np.arange(180)\n",
    "sinogram = radon(image, theta_full)"
   ]
  },
  {
   "cell_type": "code",
   "execution_count": 21,
   "metadata": {
    "collapsed": false
   },
   "outputs": [],
   "source": [
    "#full-angle singoram\n",
    "plt.title(\"Full Angle Sinogram\")\n",
    "plt.ylabel(\"Projection Position Along Track (px)\")\n",
    "plt.xlabel(\"Projection Angle (deg)\") #how far from center of image perpendicular to line you're looking at \n",
    "plt.imshow(sinogram, cmap=plt.cm.viridis, aspect = 'auto')\n",
    "my_xticks = np.arange(0,181,20)\n",
    "plt.xticks(my_xticks)\n",
    "plt.gca().invert_yaxis()\n",
    "plt.show()\n"
   ]
  },
  {
   "cell_type": "code",
   "execution_count": 22,
   "metadata": {
    "collapsed": false
   },
   "outputs": [],
   "source": [
    "#full backprojection \n",
    "\n",
    "ir=iradon(sinogram, theta_full, circle= False)\n",
    "plt.title(\"Full Angle Backprojection\")\n",
    "plt.xlabel(\"Latitude\")\n",
    "plt.ylabel(\"Altitude (km)\")\n",
    "plt.imshow(ir, cmap=plt.cm.viridis, aspect = 'auto', norm=my_norm)\n",
    "plt.gca().invert_yaxis()\n",
    "x_ticks = np.arange(0,501,50)\n",
    "ticks = np.arange(0, 500, 49)\n",
    "labels = [int(round((ys[i])/100)*100) for i in ticks]\n",
    "plt.yticks(ticks, labels)\n",
    "plt.xticks(x_ticks)\n",
    "plt.show()"
   ]
  },
  {
   "cell_type": "code",
   "execution_count": 23,
   "metadata": {
    "collapsed": false
   },
   "outputs": [],
   "source": [
    "#LITES ONLY ANGLES\n",
    "nadir = []\n",
    "theta_lites = np.hstack([nadir, limb])\n",
    "sinogram_lites = radon(image,theta_lites)\n"
   ]
  },
  {
   "cell_type": "code",
   "execution_count": 27,
   "metadata": {
    "collapsed": false
   },
   "outputs": [
    {
     "name": "stdout",
     "output_type": "stream",
     "text": [
      "(708, 240)\n"
     ]
    }
   ],
   "source": [
    "#LITES ONLY SINOGRAM\n",
    "\n",
    "plt.title(\"Limb Sinogram\")\n",
    "plt.ylabel(\"Projection Position Along Track (px)\")\n",
    "plt.xlabel(\"Projection Angle (deg)\") #how far from center of image perpendicular to line you're looking at \n",
    "print(sinogram_lites.shape)\n",
    "sinogram_disp = sinogram_lites.copy()\n",
    "#for t in range(0,72):\n",
    "    #sinogram_disp[:,t] = [0]*708\n",
    "#for t in range(84,240):\n",
    "    #sinogram_disp[:,t] = [0]*708\n",
    "plt.imshow(sinogram_disp, cmap=plt.cm.viridis, aspect = 'auto')\n",
    "my_xticks = np.arange(0,240,40)\n",
    "labels = [str(round(theta_lites[i],0)) for i in range(0,240,40)]\n",
    "plt.xticks(my_xticks, labels)\n",
    "plt.gca().invert_yaxis()\n",
    "plt.show()\n"
   ]
  },
  {
   "cell_type": "code",
   "execution_count": 28,
   "metadata": {
    "collapsed": false
   },
   "outputs": [],
   "source": [
    "#LITES ONLY BP\n",
    "ir=iradon(sinogram_lites, theta_lites, circle= False)\n",
    "plt.title(\"Limb Backprojection\")\n",
    "plt.xlabel(\"Latitude\")\n",
    "plt.ylabel(\"Altitude, (km)\")\n",
    "plt.imshow(ir, cmap=plt.cm.viridis, aspect = 'auto')\n",
    "plt.gca().invert_yaxis()\n",
    "labels = [int(round((ys[i])/100)*100) for i in ticks]\n",
    "x_ticks = np.arange(0, 501, 50)\n",
    "plt.yticks(x_ticks, labels)\n",
    "plt.show()"
   ]
  },
  {
   "cell_type": "code",
   "execution_count": 26,
   "metadata": {
    "collapsed": true
   },
   "outputs": [],
   "source": [
    "#Lites and Tip\n",
    "nadir = np.arange(0,6,1)\n",
    "theta_both = np.hstack([nadir, limb])\n",
    "sinogram_both = radon(image, theta_both)"
   ]
  },
  {
   "cell_type": "code",
   "execution_count": 39,
   "metadata": {
    "collapsed": false
   },
   "outputs": [],
   "source": [
    "#Lites and Tip\n",
    "\n",
    "plt.title(\"Limb and Nadir Sinogram\")\n",
    "plt.ylabel(\"Projection Position Along Track (px)\")\n",
    "plt.xlabel(\"Projection Angle (deg)\") #how far from center of image perpendicular to line you're looking at \n",
    "\n",
    "\n",
    "sinogram_disp = sinogram.copy()\n",
    "for t in range(6,72):\n",
    "    sinogram_disp[:,t] = [0]*708\n",
    "for t in range(84,180):\n",
    "    sinogram_disp[:,t] = [0]*708\n",
    "plt.imshow(sinogram_disp, cmap=plt.cm.viridis, aspect = 'auto')\n",
    "plt.gca().invert_yaxis()\n",
    "my_xticks = np.arange(0,180,40)\n",
    "labels = [str(i) for i in range(0,180,40)]\n",
    "plt.xticks(my_xticks, labels)\n",
    "plt.show()\n",
    "\n",
    "\n"
   ]
  },
  {
   "cell_type": "code",
   "execution_count": 29,
   "metadata": {
    "collapsed": false
   },
   "outputs": [],
   "source": [
    "#LITES AND TIP BP\n",
    "ir=iradon(sinogram_both, theta_both, circle= False)\n",
    "plt.title(\"Limb/Nadir Backprojection\")\n",
    "plt.xlabel(\"Latitude\")\n",
    "plt.ylabel(\"Altitude, (km)\")\n",
    "plt.imshow(ir, cmap=plt.cm.viridis, aspect = 'auto')\n",
    "plt.gca().invert_yaxis()\n",
    "ticks = np.arange(0, 500, 49)\n",
    "labels = [int(round((ys[i])/100)*100) for i in ticks]\n",
    "plt.yticks(ticks, labels)\n",
    "plt.show()\n"
   ]
  },
  {
   "cell_type": "code",
   "execution_count": 51,
   "metadata": {
    "collapsed": false
   },
   "outputs": [],
   "source": [
    "#edge plot\n",
    "\n",
    "from skimage import feature\n",
    "\n",
    "#Apply Gaussian blur technique coupled with low/high thresholding\n",
    "\n",
    "edges = feature.canny(ir, sigma = 1.0, low_threshold = 0.52, high_threshold = 0.996, use_quantiles = True)\n",
    "ticks = np.arange(0, 500, 49)\n",
    "x_ticks = np.arange(0,501,50)\n",
    "labels = [int(round((ys[i])/100)*100) for i in ticks]\n",
    "plt.title('Plume Edge Plot, Sigma 1 with Low/High Thresholding')\n",
    "plt.xlabel('Latitude')\n",
    "plt.ylabel('Altitude (km)')\n",
    "plt.imshow(edges, cmap=plt.cm.gray, aspect = 'auto')\n",
    "plt.gca().invert_yaxis()\n",
    "plt.xticks(x_ticks)\n",
    "plt.yticks(ticks, labels)\n",
    "plt.show()"
   ]
  },
  {
   "cell_type": "code",
   "execution_count": 45,
   "metadata": {
    "collapsed": false
   },
   "outputs": [
    {
     "name": "stdout",
     "output_type": "stream",
     "text": [
      "Measured width from edge plot 16.0 km\n",
      "Measured width from edge plot 4.0 km\n",
      "Altitude = 400.0 km\n"
     ]
    }
   ],
   "source": [
    "#2-8 km plume width\n",
    "\n",
    "row = 200\n",
    "edgex =[]\n",
    "for x in range(0,200):\n",
    "    if edges[row,x]:\n",
    "        edgex.append(x)\n",
    "for x in range(201,400):\n",
    "    if edges[row,x]:\n",
    "        edgex.append(x)\n",
    "for i in range(0,len(edgex)-1):\n",
    "    d = int(edgex[i+1] - edgex[i])\n",
    "    c = 1000/500 #2km/px\n",
    "    w= c*d\n",
    "    if 0 < w < 20:\n",
    "        print('Measured width from edge plot', w, 'km')\n",
    "\n",
    "rowkm = row*1000/500\n",
    "\n",
    "print('Altitude =',rowkm, 'km')\n",
    "\n"
   ]
  },
  {
   "cell_type": "code",
   "execution_count": 46,
   "metadata": {
    "collapsed": false
   },
   "outputs": [
    {
     "name": "stdout",
     "output_type": "stream",
     "text": [
      "Scale height 566.0 km\n"
     ]
    }
   ],
   "source": [
    "#Trapezoid rule; estimate for thickness of the band\n",
    "#chapman function to find width of band\n",
    "#height of the band - estimate scale height rho= N_max*e^(-1/2(1-(z-z_max/H)-e^-(z-z_max/4))); H = scale height/peak value\n",
    "\n",
    "#estimate of scale height from density peak. How tall it would be if density was constant\n",
    "import scipy.integrate as sc\n",
    "x = data_x\n",
    "y = data_y\n",
    "I= sc.trapz(x[::-1],y[::-1])\n",
    "N = x.max()\n",
    "\n",
    "I/N\n",
    "\n",
    "a = round((1000/500)*(I/N))\n",
    "\n",
    "print('Scale height', a , 'km')\n",
    "\n",
    "\n"
   ]
  },
  {
   "cell_type": "code",
   "execution_count": 47,
   "metadata": {
    "collapsed": false
   },
   "outputs": [
    {
     "name": "stdout",
     "output_type": "stream",
     "text": [
      "Width of band 240.0 km\n"
     ]
    }
   ],
   "source": [
    "#Width of band by function np.argmax\n",
    "#plume = [f(ys)]*N_lat\n",
    "\n",
    "i= np.asarray(plume)[:,0].argmax()\n",
    "z_max = z[i]\n",
    "\n",
    "width_of_band = 1000/500*z_max\n",
    "\n",
    "print('Width of band', width_of_band, 'km')"
   ]
  },
  {
   "cell_type": "code",
   "execution_count": 169,
   "metadata": {
    "collapsed": false
   },
   "outputs": [
    {
     "name": "stdout",
     "output_type": "stream",
     "text": [
      "0.0017453292519943296\n"
     ]
    }
   ],
   "source": [
    "#res index\n",
    "\n",
    "#number of counts/sec\n",
    "n = 1000\n",
    "#delta time (choose)\n",
    "d_t = 100 #secs\n",
    "#intensity at 1356 Angstroms\n",
    "I = 10\n",
    "#change in angle 10 degrees in rads \n",
    "d_th = np.pi/18\n",
    "\n",
    "\n",
    "Resolution = d_th*n/(d_t*I*d_t) #counts/per sec *rayleighs\n",
    "\n",
    "print(Resolution)\n"
   ]
  },
  {
   "cell_type": "code",
   "execution_count": 45,
   "metadata": {
    "collapsed": true
   },
   "outputs": [],
   "source": [
    "#magntiude of brightness/intensity for 1356; resolution proportional intensity*number of counts per sec \n",
    "#ask susanna for #counts/sec\n",
    "#angles chosen effects resolution I*N*deltaT; deltaT is elapsed time when counting - you can choose that. resolution will change over time \n",
    "\n",
    "#delta(theta)= 10 deg\n",
    "\n",
    "\n",
    "#github code \n"
   ]
  },
  {
   "cell_type": "code",
   "execution_count": null,
   "metadata": {
    "collapsed": true
   },
   "outputs": [],
   "source": []
  }
 ],
 "metadata": {
  "kernelspec": {
   "display_name": "Python 3",
   "language": "python",
   "name": "python3"
  },
  "language_info": {
   "codemirror_mode": {
    "name": "ipython",
    "version": 3
   },
   "file_extension": ".py",
   "mimetype": "text/x-python",
   "name": "python",
   "nbconvert_exporter": "python",
   "pygments_lexer": "ipython3",
   "version": "3.5.1"
  }
 },
 "nbformat": 4,
 "nbformat_minor": 0
}
